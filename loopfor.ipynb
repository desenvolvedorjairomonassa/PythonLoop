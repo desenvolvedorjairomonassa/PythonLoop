{
  "nbformat": 4,
  "nbformat_minor": 0,
  "metadata": {
    "colab": {
      "name": "loopfor.ipynb",
      "provenance": [],
      "collapsed_sections": []
    },
    "kernelspec": {
      "name": "python3",
      "display_name": "Python 3"
    },
    "language_info": {
      "name": "python"
    }
  },
  "cells": [
    {
      "cell_type": "markdown",
      "metadata": {
        "id": "PsUQN_F4C-c9"
      },
      "source": [
        "usando Laços for em lista, tuplas , ou string, , muito versátil\n",
        " "
      ]
    },
    {
      "cell_type": "code",
      "metadata": {
        "colab": {
          "base_uri": "https://localhost:8080/"
        },
        "id": "uorG5JOBDy-_",
        "outputId": "fb3ef767-cf4b-4a2c-d9e8-af389d0f364a"
      },
      "source": [
        "#for variavel iteração de um intervalor de 1 a 100.\n",
        "contando =[]\n",
        "for item in range(1,100,1):\n",
        "  contando.append(item)\n",
        "print(contando)  "
      ],
      "execution_count": 2,
      "outputs": [
        {
          "output_type": "stream",
          "name": "stdout",
          "text": [
            "[1, 2, 3, 4, 5, 6, 7, 8, 9, 10, 11, 12, 13, 14, 15, 16, 17, 18, 19, 20, 21, 22, 23, 24, 25, 26, 27, 28, 29, 30, 31, 32, 33, 34, 35, 36, 37, 38, 39, 40, 41, 42, 43, 44, 45, 46, 47, 48, 49, 50, 51, 52, 53, 54, 55, 56, 57, 58, 59, 60, 61, 62, 63, 64, 65, 66, 67, 68, 69, 70, 71, 72, 73, 74, 75, 76, 77, 78, 79, 80, 81, 82, 83, 84, 85, 86, 87, 88, 89, 90, 91, 92, 93, 94, 95, 96, 97, 98, 99]\n"
          ]
        }
      ]
    },
    {
      "cell_type": "code",
      "metadata": {
        "colab": {
          "base_uri": "https://localhost:8080/"
        },
        "id": "zlBSONDZDTrR",
        "outputId": "c039917b-8094-4026-d28d-db20519195f1"
      },
      "source": [
        "#criando uma lista semanas e mandando imprimir\n",
        "semana=['Domingo','Segunda','Terça','Quarta','Quinta','Sexta'] \n",
        "#for variavel interação\n",
        "for item in semana:\n",
        "  print(item)"
      ],
      "execution_count": 4,
      "outputs": [
        {
          "output_type": "stream",
          "name": "stdout",
          "text": [
            "Domingo\n",
            "Segunda\n",
            "Terça\n",
            "Quarta\n",
            "Quinta\n",
            "Sexta\n"
          ]
        }
      ]
    },
    {
      "cell_type": "code",
      "metadata": {
        "colab": {
          "base_uri": "https://localhost:8080/"
        },
        "id": "ZRfA3a71EpcZ",
        "outputId": "00844be3-8bdc-45f9-a782-651dbeb57e39"
      },
      "source": [
        "cadeia=\"PYthon é uma Linguagem versátil\"\n",
        "for item in cadeia:\n",
        "  if (item.isupper()):\n",
        "    print(item)"
      ],
      "execution_count": 6,
      "outputs": [
        {
          "output_type": "stream",
          "name": "stdout",
          "text": [
            "P\n",
            "Y\n",
            "L\n"
          ]
        }
      ]
    },
    {
      "cell_type": "code",
      "metadata": {
        "colab": {
          "base_uri": "https://localhost:8080/"
        },
        "id": "OkKn7S0bFZaR",
        "outputId": "7545c2a0-3075-4349-cfd0-c887d0f004a6"
      },
      "source": [
        "tupla=(1,2,3,4,5,6,7,8)\n",
        "tem=2\n",
        "for index,item in enumerate(tupla):\n",
        "  if (item==tem):\n",
        "    print(\"tem o valor {} na posição {}\".format(item,index))\n",
        "    break\n",
        "  else:\n",
        "    continue  \n",
        "\n",
        "tem=13\n",
        "for index,item in enumerate(tupla):\n",
        "  if (item==tem):\n",
        "    print(\"tem o valor {} na posição {}\".format(item,index))\n",
        "    break\n",
        "  else:\n",
        "    continue  \n",
        "else:\n",
        "  print('Não encontrou o {}'.format(tem))    "
      ],
      "execution_count": 12,
      "outputs": [
        {
          "output_type": "stream",
          "name": "stdout",
          "text": [
            "tem o valor 2 na posição 1\n",
            "Não encontrou o 13\n"
          ]
        }
      ]
    },
    {
      "cell_type": "code",
      "metadata": {
        "colab": {
          "base_uri": "https://localhost:8080/"
        },
        "id": "LvJsWcMsIndL",
        "outputId": "58c7cb4c-c506-4841-b52a-162d030ee0fc"
      },
      "source": [
        "#mostrar os divisores de 5 e 7 de 1500 a 2701\n",
        "for item in range(1500,2701):\n",
        "  if (item%5==0 and item%7==0):\n",
        "    print(item)"
      ],
      "execution_count": 14,
      "outputs": [
        {
          "output_type": "stream",
          "name": "stdout",
          "text": [
            "1505\n",
            "1540\n",
            "1575\n",
            "1610\n",
            "1645\n",
            "1680\n",
            "1715\n",
            "1750\n",
            "1785\n",
            "1820\n",
            "1855\n",
            "1890\n",
            "1925\n",
            "1960\n",
            "1995\n",
            "2030\n",
            "2065\n",
            "2100\n",
            "2135\n",
            "2170\n",
            "2205\n",
            "2240\n",
            "2275\n",
            "2310\n",
            "2345\n",
            "2380\n",
            "2415\n",
            "2450\n",
            "2485\n",
            "2520\n",
            "2555\n",
            "2590\n",
            "2625\n",
            "2660\n",
            "2695\n"
          ]
        }
      ]
    },
    {
      "cell_type": "code",
      "metadata": {
        "colab": {
          "base_uri": "https://localhost:8080/"
        },
        "id": "ToRJ-KdPeTBE",
        "outputId": "2dddd6fb-2233-4e4b-c63e-951d16f4a3a4"
      },
      "source": [
        "x = 200.0\n",
        "print(f'N[0] = {x:.4f}')\n",
        "for i in range(1,10 ):\n",
        "    x /= 2\n",
        "    print(f'N[{i}] = {x:.4f}')"
      ],
      "execution_count": 1,
      "outputs": [
        {
          "output_type": "stream",
          "name": "stdout",
          "text": [
            "N[0] = 200.0000\n",
            "N[1] = 100.0000\n",
            "N[2] = 50.0000\n",
            "N[3] = 25.0000\n",
            "N[4] = 12.5000\n",
            "N[5] = 6.2500\n",
            "N[6] = 3.1250\n",
            "N[7] = 1.5625\n",
            "N[8] = 0.7812\n",
            "N[9] = 0.3906\n"
          ]
        }
      ]
    },
    {
      "cell_type": "code",
      "metadata": {
        "colab": {
          "base_uri": "https://localhost:8080/"
        },
        "id": "M4U4Xmb6edJh",
        "outputId": "b16f4e2b-e02f-445e-b117-a7e6b19a11f9"
      },
      "source": [
        "#combinação de senhas, combinação simples cada caractere maiuscula e minuscula (duas opeções), e ainda as que podem ser trocados por numeros 3 opeções, se for numero já só tem uma opção \n",
        "senha='teste'\n",
        "x = len(senha)\n",
        "total = 1 \n",
        "for i in range(x):\n",
        " if (senha[i].upper() == 'A' or senha[i].upper() == 'E' or senha[i].upper() == 'I' or senha[i].upper() == 'O' and senha[i].upper() == 'S'):\n",
        "   total *= 3\n",
        " elif (senha[i].isnumeric()):\n",
        "   total *= 1 \n",
        " else:\n",
        "   total *= 2 \n",
        "print(\"total de combinações {}\".format(total) )"
      ],
      "execution_count": 3,
      "outputs": [
        {
          "output_type": "stream",
          "name": "stdout",
          "text": [
            "total de combinações 72\n"
          ]
        }
      ]
    }
  ]
}